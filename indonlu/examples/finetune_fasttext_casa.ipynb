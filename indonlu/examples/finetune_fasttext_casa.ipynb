{
 "cells": [
  {
   "cell_type": "markdown",
   "metadata": {},
   "source": [
    "# Finetuning CASA with FastText"
   ]
  },
  {
   "cell_type": "markdown",
   "metadata": {},
   "source": [
    "## Cached FastText weight vector\n",
    "if you are running the 12 tasks from IndoNLU, you can download the cached weight vectors from the following URL\n",
    "- [FastText ID-4B](https://storage.googleapis.com/babert-pretraining/IndoNLU_finals/models/fasttext/fasttext-4B-id-uncased.zip)\n",
    "- [FastText CC-ID](https://storage.googleapis.com/babert-pretraining/IndoNLU_finals/models/fasttext/fasttext-cc-id.zip)\n",
    "\n",
    "## How to create the FastText weight vectors for a new dataset\n",
    "1. Install `fasttext` dependency\n",
    "```bash\n",
    "     pip install fasttext\n",
    "```\n",
    "2. Download our [FastText vector file](https://storage.googleapis.com/babert-pretraining/IndoNLU_finals/models/fasttext/fasttext.4B.id.300.epoch5.uncased.vec.zip) and unzip the file\n",
    "2. Create a vocabulary file consisting of all unique tokens in the dataset, as examples please check [CASA uncased vocab](../dataset/casa_absa-prosa/vocab_uncased.txt) or [CASA cased vocab](../dataset/casa_absa-prosa/vocab.txt) on the dataset folder\n",
    "2. Execute `print-word-vectors funtion` command from `fasttext`\n",
    "```bash\n",
    "     ./fasttext print-word-vectors fasttext.4B.id.300.epoch5.uncased.bin < INPUT_VOCAB_PATH > OUTPUT_VECTOR_PATH\n",
    "```\n",
    "3. In this tutorial, the we will use [CASA uncased vocab](../dataset/casa_absa-prosa/vocab_uncased.txt) as our `INPUT_VOCAB_PATH` and `./embeddings/fasttext_casa.txt` as the `OUTPUT_VECTOR_PATH`"
   ]
  },
  {
   "cell_type": "code",
   "execution_count": 1,
   "metadata": {},
   "outputs": [],
   "source": [
    "import os, sys\n",
    "sys.path.append('../')\n",
    "os.chdir('../')\n",
    "\n",
    "import random\n",
    "import numpy as np\n",
    "import pandas as pd\n",
    "import torch\n",
    "from torch import optim\n",
    "import torch.nn.functional as F\n",
    "from tqdm import tqdm\n",
    "\n",
    "from transformers import BertTokenizer, BertConfig, BertForPreTraining\n",
    "from nltk.tokenize import TweetTokenizer, word_tokenize\n",
    "\n",
    "from modules.multi_label_classification import BertForMultiLabelClassification\n",
    "from utils.functions import SimpleTokenizer, load_vocab, gen_embeddings\n",
    "from utils.forward_fn import forward_sequence_multi_classification\n",
    "from utils.metrics import absa_metrics_fn\n",
    "from utils.data_utils import AspectBasedSentimentAnalysisProsaDataset, AspectBasedSentimentAnalysisDataLoader"
   ]
  },
  {
   "cell_type": "code",
   "execution_count": 2,
   "metadata": {},
   "outputs": [],
   "source": [
    "vocab_path = './dataset/casa_absa-prosa/vocab_uncased.txt' # We use `./` instead of `../` because we perform `os.chdir()` on the previous cell\n",
    "vector_path = './embeddings/fasttext_casa.txt'"
   ]
  },
  {
   "cell_type": "code",
   "execution_count": 3,
   "metadata": {},
   "outputs": [],
   "source": [
    "###\n",
    "# common functions\n",
    "###\n",
    "def set_seed(seed):\n",
    "    random.seed(seed)\n",
    "    np.random.seed(seed)\n",
    "    torch.manual_seed(seed)\n",
    "    torch.cuda.manual_seed(seed)\n",
    "    \n",
    "def count_param(module, trainable=False):\n",
    "    if trainable:\n",
    "        return sum(p.numel() for p in module.parameters() if p.requires_grad)\n",
    "    else:\n",
    "        return sum(p.numel() for p in module.parameters())\n",
    "    \n",
    "def get_lr(optimizer):\n",
    "    for param_group in optimizer.param_groups:\n",
    "        return param_group['lr']\n",
    "\n",
    "def metrics_to_string(metric_dict):\n",
    "    string_list = []\n",
    "    for key, value in metric_dict.items():\n",
    "        string_list.append('{}:{:.2f}'.format(key, value))\n",
    "    return ' '.join(string_list)"
   ]
  },
  {
   "cell_type": "code",
   "execution_count": 4,
   "metadata": {},
   "outputs": [],
   "source": [
    "# Set random seed\n",
    "set_seed(26092020)"
   ]
  },
  {
   "cell_type": "markdown",
   "metadata": {},
   "source": [
    "# Load Model"
   ]
  },
  {
   "cell_type": "code",
   "execution_count": 5,
   "metadata": {
    "scrolled": true
   },
   "outputs": [
    {
     "name": "stdout",
     "output_type": "stream",
     "text": [
      "Loading embedding file: ./embeddings/fasttext_casa.txt\n",
      "Embeddings: 2276 x 300\n",
      "Pre-trained: 2265 (99.52%)\n"
     ]
    },
    {
     "data": {
      "text/plain": [
       "tensor([[ 0.1833,  0.4513,  0.6671,  ...,  0.9816,  0.1172,  0.6214],\n",
       "        [ 0.1449,  0.0882, -0.5603,  ..., -0.1639,  0.2462,  0.0972],\n",
       "        [-0.2511, -0.1280, -0.2047,  ...,  0.4223,  0.6745, -0.1174],\n",
       "        ...,\n",
       "        [ 0.7961,  0.5256,  0.5663,  ...,  0.1916,  0.7011,  0.4579],\n",
       "        [ 0.5069,  0.4808,  0.5925,  ...,  0.7520,  0.1409,  0.6555],\n",
       "        [ 0.4596,  0.7537,  0.5713,  ...,  0.9568,  0.5453,  0.6907]])"
      ]
     },
     "execution_count": 5,
     "metadata": {},
     "output_type": "execute_result"
    }
   ],
   "source": [
    "# Load Tokenizer & Embedding\n",
    "_, vocab_map = load_vocab(vocab_path)\n",
    "tokenizer = SimpleTokenizer(vocab_map, TweetTokenizer(), lower=True)\n",
    "vocab_list = list(tokenizer.vocab.keys())\n",
    "embeddings = gen_embeddings(vocab_list, vector_path, emb_dim=300)\n",
    "\n",
    "# Load Config\n",
    "config = BertConfig.from_pretrained('indobenchmark/indobert-base-p1')\n",
    "config.num_labels = max(AspectBasedSentimentAnalysisProsaDataset.NUM_LABELS)\n",
    "config.num_labels_list = AspectBasedSentimentAnalysisProsaDataset.NUM_LABELS\n",
    "config.hidden_size = 300 # Use the same vector size as the fasttext embedding\n",
    "config.num_attention_heads = 10 # Make num_attention_heads to a number that satisfy hidden_size % num_attention_heads = 0\n",
    "config.vocab_size = len(embeddings)\n",
    "\n",
    "# Instantiate model\n",
    "model = BertForMultiLabelClassification(config=config)\n",
    "model.bert.embeddings.word_embeddings.weight.data.copy_(torch.FloatTensor(embeddings))"
   ]
  },
  {
   "cell_type": "code",
   "execution_count": 6,
   "metadata": {
    "scrolled": true
   },
   "outputs": [
    {
     "data": {
      "text/plain": [
       "BertForMultiLabelClassification(\n",
       "  (bert): BertModel(\n",
       "    (embeddings): BertEmbeddings(\n",
       "      (word_embeddings): Embedding(2276, 300, padding_idx=0)\n",
       "      (position_embeddings): Embedding(512, 300)\n",
       "      (token_type_embeddings): Embedding(2, 300)\n",
       "      (LayerNorm): LayerNorm((300,), eps=1e-12, elementwise_affine=True)\n",
       "      (dropout): Dropout(p=0.1, inplace=False)\n",
       "    )\n",
       "    (encoder): BertEncoder(\n",
       "      (layer): ModuleList(\n",
       "        (0): BertLayer(\n",
       "          (attention): BertAttention(\n",
       "            (self): BertSelfAttention(\n",
       "              (query): Linear(in_features=300, out_features=300, bias=True)\n",
       "              (key): Linear(in_features=300, out_features=300, bias=True)\n",
       "              (value): Linear(in_features=300, out_features=300, bias=True)\n",
       "              (dropout): Dropout(p=0.1, inplace=False)\n",
       "            )\n",
       "            (output): BertSelfOutput(\n",
       "              (dense): Linear(in_features=300, out_features=300, bias=True)\n",
       "              (LayerNorm): LayerNorm((300,), eps=1e-12, elementwise_affine=True)\n",
       "              (dropout): Dropout(p=0.1, inplace=False)\n",
       "            )\n",
       "          )\n",
       "          (intermediate): BertIntermediate(\n",
       "            (dense): Linear(in_features=300, out_features=3072, bias=True)\n",
       "          )\n",
       "          (output): BertOutput(\n",
       "            (dense): Linear(in_features=3072, out_features=300, bias=True)\n",
       "            (LayerNorm): LayerNorm((300,), eps=1e-12, elementwise_affine=True)\n",
       "            (dropout): Dropout(p=0.1, inplace=False)\n",
       "          )\n",
       "        )\n",
       "        (1): BertLayer(\n",
       "          (attention): BertAttention(\n",
       "            (self): BertSelfAttention(\n",
       "              (query): Linear(in_features=300, out_features=300, bias=True)\n",
       "              (key): Linear(in_features=300, out_features=300, bias=True)\n",
       "              (value): Linear(in_features=300, out_features=300, bias=True)\n",
       "              (dropout): Dropout(p=0.1, inplace=False)\n",
       "            )\n",
       "            (output): BertSelfOutput(\n",
       "              (dense): Linear(in_features=300, out_features=300, bias=True)\n",
       "              (LayerNorm): LayerNorm((300,), eps=1e-12, elementwise_affine=True)\n",
       "              (dropout): Dropout(p=0.1, inplace=False)\n",
       "            )\n",
       "          )\n",
       "          (intermediate): BertIntermediate(\n",
       "            (dense): Linear(in_features=300, out_features=3072, bias=True)\n",
       "          )\n",
       "          (output): BertOutput(\n",
       "            (dense): Linear(in_features=3072, out_features=300, bias=True)\n",
       "            (LayerNorm): LayerNorm((300,), eps=1e-12, elementwise_affine=True)\n",
       "            (dropout): Dropout(p=0.1, inplace=False)\n",
       "          )\n",
       "        )\n",
       "        (2): BertLayer(\n",
       "          (attention): BertAttention(\n",
       "            (self): BertSelfAttention(\n",
       "              (query): Linear(in_features=300, out_features=300, bias=True)\n",
       "              (key): Linear(in_features=300, out_features=300, bias=True)\n",
       "              (value): Linear(in_features=300, out_features=300, bias=True)\n",
       "              (dropout): Dropout(p=0.1, inplace=False)\n",
       "            )\n",
       "            (output): BertSelfOutput(\n",
       "              (dense): Linear(in_features=300, out_features=300, bias=True)\n",
       "              (LayerNorm): LayerNorm((300,), eps=1e-12, elementwise_affine=True)\n",
       "              (dropout): Dropout(p=0.1, inplace=False)\n",
       "            )\n",
       "          )\n",
       "          (intermediate): BertIntermediate(\n",
       "            (dense): Linear(in_features=300, out_features=3072, bias=True)\n",
       "          )\n",
       "          (output): BertOutput(\n",
       "            (dense): Linear(in_features=3072, out_features=300, bias=True)\n",
       "            (LayerNorm): LayerNorm((300,), eps=1e-12, elementwise_affine=True)\n",
       "            (dropout): Dropout(p=0.1, inplace=False)\n",
       "          )\n",
       "        )\n",
       "        (3): BertLayer(\n",
       "          (attention): BertAttention(\n",
       "            (self): BertSelfAttention(\n",
       "              (query): Linear(in_features=300, out_features=300, bias=True)\n",
       "              (key): Linear(in_features=300, out_features=300, bias=True)\n",
       "              (value): Linear(in_features=300, out_features=300, bias=True)\n",
       "              (dropout): Dropout(p=0.1, inplace=False)\n",
       "            )\n",
       "            (output): BertSelfOutput(\n",
       "              (dense): Linear(in_features=300, out_features=300, bias=True)\n",
       "              (LayerNorm): LayerNorm((300,), eps=1e-12, elementwise_affine=True)\n",
       "              (dropout): Dropout(p=0.1, inplace=False)\n",
       "            )\n",
       "          )\n",
       "          (intermediate): BertIntermediate(\n",
       "            (dense): Linear(in_features=300, out_features=3072, bias=True)\n",
       "          )\n",
       "          (output): BertOutput(\n",
       "            (dense): Linear(in_features=3072, out_features=300, bias=True)\n",
       "            (LayerNorm): LayerNorm((300,), eps=1e-12, elementwise_affine=True)\n",
       "            (dropout): Dropout(p=0.1, inplace=False)\n",
       "          )\n",
       "        )\n",
       "        (4): BertLayer(\n",
       "          (attention): BertAttention(\n",
       "            (self): BertSelfAttention(\n",
       "              (query): Linear(in_features=300, out_features=300, bias=True)\n",
       "              (key): Linear(in_features=300, out_features=300, bias=True)\n",
       "              (value): Linear(in_features=300, out_features=300, bias=True)\n",
       "              (dropout): Dropout(p=0.1, inplace=False)\n",
       "            )\n",
       "            (output): BertSelfOutput(\n",
       "              (dense): Linear(in_features=300, out_features=300, bias=True)\n",
       "              (LayerNorm): LayerNorm((300,), eps=1e-12, elementwise_affine=True)\n",
       "              (dropout): Dropout(p=0.1, inplace=False)\n",
       "            )\n",
       "          )\n",
       "          (intermediate): BertIntermediate(\n",
       "            (dense): Linear(in_features=300, out_features=3072, bias=True)\n",
       "          )\n",
       "          (output): BertOutput(\n",
       "            (dense): Linear(in_features=3072, out_features=300, bias=True)\n",
       "            (LayerNorm): LayerNorm((300,), eps=1e-12, elementwise_affine=True)\n",
       "            (dropout): Dropout(p=0.1, inplace=False)\n",
       "          )\n",
       "        )\n",
       "        (5): BertLayer(\n",
       "          (attention): BertAttention(\n",
       "            (self): BertSelfAttention(\n",
       "              (query): Linear(in_features=300, out_features=300, bias=True)\n",
       "              (key): Linear(in_features=300, out_features=300, bias=True)\n",
       "              (value): Linear(in_features=300, out_features=300, bias=True)\n",
       "              (dropout): Dropout(p=0.1, inplace=False)\n",
       "            )\n",
       "            (output): BertSelfOutput(\n",
       "              (dense): Linear(in_features=300, out_features=300, bias=True)\n",
       "              (LayerNorm): LayerNorm((300,), eps=1e-12, elementwise_affine=True)\n",
       "              (dropout): Dropout(p=0.1, inplace=False)\n",
       "            )\n",
       "          )\n",
       "          (intermediate): BertIntermediate(\n",
       "            (dense): Linear(in_features=300, out_features=3072, bias=True)\n",
       "          )\n",
       "          (output): BertOutput(\n",
       "            (dense): Linear(in_features=3072, out_features=300, bias=True)\n",
       "            (LayerNorm): LayerNorm((300,), eps=1e-12, elementwise_affine=True)\n",
       "            (dropout): Dropout(p=0.1, inplace=False)\n",
       "          )\n",
       "        )\n",
       "        (6): BertLayer(\n",
       "          (attention): BertAttention(\n",
       "            (self): BertSelfAttention(\n",
       "              (query): Linear(in_features=300, out_features=300, bias=True)\n",
       "              (key): Linear(in_features=300, out_features=300, bias=True)\n",
       "              (value): Linear(in_features=300, out_features=300, bias=True)\n",
       "              (dropout): Dropout(p=0.1, inplace=False)\n",
       "            )\n",
       "            (output): BertSelfOutput(\n",
       "              (dense): Linear(in_features=300, out_features=300, bias=True)\n",
       "              (LayerNorm): LayerNorm((300,), eps=1e-12, elementwise_affine=True)\n",
       "              (dropout): Dropout(p=0.1, inplace=False)\n",
       "            )\n",
       "          )\n",
       "          (intermediate): BertIntermediate(\n",
       "            (dense): Linear(in_features=300, out_features=3072, bias=True)\n",
       "          )\n",
       "          (output): BertOutput(\n",
       "            (dense): Linear(in_features=3072, out_features=300, bias=True)\n",
       "            (LayerNorm): LayerNorm((300,), eps=1e-12, elementwise_affine=True)\n",
       "            (dropout): Dropout(p=0.1, inplace=False)\n",
       "          )\n",
       "        )\n",
       "        (7): BertLayer(\n",
       "          (attention): BertAttention(\n",
       "            (self): BertSelfAttention(\n",
       "              (query): Linear(in_features=300, out_features=300, bias=True)\n",
       "              (key): Linear(in_features=300, out_features=300, bias=True)\n",
       "              (value): Linear(in_features=300, out_features=300, bias=True)\n",
       "              (dropout): Dropout(p=0.1, inplace=False)\n",
       "            )\n",
       "            (output): BertSelfOutput(\n",
       "              (dense): Linear(in_features=300, out_features=300, bias=True)\n",
       "              (LayerNorm): LayerNorm((300,), eps=1e-12, elementwise_affine=True)\n",
       "              (dropout): Dropout(p=0.1, inplace=False)\n",
       "            )\n",
       "          )\n",
       "          (intermediate): BertIntermediate(\n",
       "            (dense): Linear(in_features=300, out_features=3072, bias=True)\n",
       "          )\n",
       "          (output): BertOutput(\n",
       "            (dense): Linear(in_features=3072, out_features=300, bias=True)\n",
       "            (LayerNorm): LayerNorm((300,), eps=1e-12, elementwise_affine=True)\n",
       "            (dropout): Dropout(p=0.1, inplace=False)\n",
       "          )\n",
       "        )\n",
       "        (8): BertLayer(\n",
       "          (attention): BertAttention(\n",
       "            (self): BertSelfAttention(\n",
       "              (query): Linear(in_features=300, out_features=300, bias=True)\n",
       "              (key): Linear(in_features=300, out_features=300, bias=True)\n",
       "              (value): Linear(in_features=300, out_features=300, bias=True)\n",
       "              (dropout): Dropout(p=0.1, inplace=False)\n",
       "            )\n",
       "            (output): BertSelfOutput(\n",
       "              (dense): Linear(in_features=300, out_features=300, bias=True)\n",
       "              (LayerNorm): LayerNorm((300,), eps=1e-12, elementwise_affine=True)\n",
       "              (dropout): Dropout(p=0.1, inplace=False)\n",
       "            )\n",
       "          )\n",
       "          (intermediate): BertIntermediate(\n",
       "            (dense): Linear(in_features=300, out_features=3072, bias=True)\n",
       "          )\n",
       "          (output): BertOutput(\n",
       "            (dense): Linear(in_features=3072, out_features=300, bias=True)\n",
       "            (LayerNorm): LayerNorm((300,), eps=1e-12, elementwise_affine=True)\n",
       "            (dropout): Dropout(p=0.1, inplace=False)\n",
       "          )\n",
       "        )\n",
       "        (9): BertLayer(\n",
       "          (attention): BertAttention(\n",
       "            (self): BertSelfAttention(\n",
       "              (query): Linear(in_features=300, out_features=300, bias=True)\n",
       "              (key): Linear(in_features=300, out_features=300, bias=True)\n",
       "              (value): Linear(in_features=300, out_features=300, bias=True)\n",
       "              (dropout): Dropout(p=0.1, inplace=False)\n",
       "            )\n",
       "            (output): BertSelfOutput(\n",
       "              (dense): Linear(in_features=300, out_features=300, bias=True)\n",
       "              (LayerNorm): LayerNorm((300,), eps=1e-12, elementwise_affine=True)\n",
       "              (dropout): Dropout(p=0.1, inplace=False)\n",
       "            )\n",
       "          )\n",
       "          (intermediate): BertIntermediate(\n",
       "            (dense): Linear(in_features=300, out_features=3072, bias=True)\n",
       "          )\n",
       "          (output): BertOutput(\n",
       "            (dense): Linear(in_features=3072, out_features=300, bias=True)\n",
       "            (LayerNorm): LayerNorm((300,), eps=1e-12, elementwise_affine=True)\n",
       "            (dropout): Dropout(p=0.1, inplace=False)\n",
       "          )\n",
       "        )\n",
       "        (10): BertLayer(\n",
       "          (attention): BertAttention(\n",
       "            (self): BertSelfAttention(\n",
       "              (query): Linear(in_features=300, out_features=300, bias=True)\n",
       "              (key): Linear(in_features=300, out_features=300, bias=True)\n",
       "              (value): Linear(in_features=300, out_features=300, bias=True)\n",
       "              (dropout): Dropout(p=0.1, inplace=False)\n",
       "            )\n",
       "            (output): BertSelfOutput(\n",
       "              (dense): Linear(in_features=300, out_features=300, bias=True)\n",
       "              (LayerNorm): LayerNorm((300,), eps=1e-12, elementwise_affine=True)\n",
       "              (dropout): Dropout(p=0.1, inplace=False)\n",
       "            )\n",
       "          )\n",
       "          (intermediate): BertIntermediate(\n",
       "            (dense): Linear(in_features=300, out_features=3072, bias=True)\n",
       "          )\n",
       "          (output): BertOutput(\n",
       "            (dense): Linear(in_features=3072, out_features=300, bias=True)\n",
       "            (LayerNorm): LayerNorm((300,), eps=1e-12, elementwise_affine=True)\n",
       "            (dropout): Dropout(p=0.1, inplace=False)\n",
       "          )\n",
       "        )\n",
       "        (11): BertLayer(\n",
       "          (attention): BertAttention(\n",
       "            (self): BertSelfAttention(\n",
       "              (query): Linear(in_features=300, out_features=300, bias=True)\n",
       "              (key): Linear(in_features=300, out_features=300, bias=True)\n",
       "              (value): Linear(in_features=300, out_features=300, bias=True)\n",
       "              (dropout): Dropout(p=0.1, inplace=False)\n",
       "            )\n",
       "            (output): BertSelfOutput(\n",
       "              (dense): Linear(in_features=300, out_features=300, bias=True)\n",
       "              (LayerNorm): LayerNorm((300,), eps=1e-12, elementwise_affine=True)\n",
       "              (dropout): Dropout(p=0.1, inplace=False)\n",
       "            )\n",
       "          )\n",
       "          (intermediate): BertIntermediate(\n",
       "            (dense): Linear(in_features=300, out_features=3072, bias=True)\n",
       "          )\n",
       "          (output): BertOutput(\n",
       "            (dense): Linear(in_features=3072, out_features=300, bias=True)\n",
       "            (LayerNorm): LayerNorm((300,), eps=1e-12, elementwise_affine=True)\n",
       "            (dropout): Dropout(p=0.1, inplace=False)\n",
       "          )\n",
       "        )\n",
       "      )\n",
       "    )\n",
       "    (pooler): BertPooler(\n",
       "      (dense): Linear(in_features=300, out_features=300, bias=True)\n",
       "      (activation): Tanh()\n",
       "    )\n",
       "  )\n",
       "  (dropout): Dropout(p=0.1, inplace=False)\n",
       "  (classifiers): ModuleList(\n",
       "    (0): Linear(in_features=300, out_features=3, bias=True)\n",
       "    (1): Linear(in_features=300, out_features=3, bias=True)\n",
       "    (2): Linear(in_features=300, out_features=3, bias=True)\n",
       "    (3): Linear(in_features=300, out_features=3, bias=True)\n",
       "    (4): Linear(in_features=300, out_features=3, bias=True)\n",
       "    (5): Linear(in_features=300, out_features=3, bias=True)\n",
       "  )\n",
       ")"
      ]
     },
     "execution_count": 6,
     "metadata": {},
     "output_type": "execute_result"
    }
   ],
   "source": [
    "model"
   ]
  },
  {
   "cell_type": "code",
   "execution_count": 7,
   "metadata": {},
   "outputs": [
    {
     "data": {
      "text/plain": [
       "27440982"
      ]
     },
     "execution_count": 7,
     "metadata": {},
     "output_type": "execute_result"
    }
   ],
   "source": [
    "count_param(model)"
   ]
  },
  {
   "cell_type": "markdown",
   "metadata": {},
   "source": [
    "# Prepare Dataset"
   ]
  },
  {
   "cell_type": "code",
   "execution_count": 8,
   "metadata": {},
   "outputs": [],
   "source": [
    "train_dataset_path = './dataset/casa_absa-prosa/train_preprocess.csv'\n",
    "valid_dataset_path = './dataset/casa_absa-prosa/valid_preprocess.csv'\n",
    "test_dataset_path = './dataset/casa_absa-prosa/test_preprocess_masked_label.csv'"
   ]
  },
  {
   "cell_type": "code",
   "execution_count": 9,
   "metadata": {},
   "outputs": [],
   "source": [
    "train_dataset = AspectBasedSentimentAnalysisProsaDataset(train_dataset_path, tokenizer, lowercase=True)\n",
    "valid_dataset = AspectBasedSentimentAnalysisProsaDataset(valid_dataset_path, tokenizer, lowercase=True)\n",
    "test_dataset = AspectBasedSentimentAnalysisProsaDataset(test_dataset_path, tokenizer, lowercase=True)\n",
    "\n",
    "train_loader = AspectBasedSentimentAnalysisDataLoader(dataset=train_dataset, max_seq_len=512, batch_size=16, num_workers=16, shuffle=True)  \n",
    "valid_loader = AspectBasedSentimentAnalysisDataLoader(dataset=valid_dataset, max_seq_len=512, batch_size=16, num_workers=16, shuffle=False)  \n",
    "test_loader = AspectBasedSentimentAnalysisDataLoader(dataset=test_dataset, max_seq_len=512, batch_size=16, num_workers=16, shuffle=False)"
   ]
  },
  {
   "cell_type": "code",
   "execution_count": 10,
   "metadata": {},
   "outputs": [
    {
     "name": "stdout",
     "output_type": "stream",
     "text": [
      "{'negative': 0, 'neutral': 1, 'positive': 2}\n",
      "{0: 'negative', 1: 'neutral', 2: 'positive'}\n"
     ]
    }
   ],
   "source": [
    "w2i, i2w = AspectBasedSentimentAnalysisProsaDataset.LABEL2INDEX, AspectBasedSentimentAnalysisProsaDataset.INDEX2LABEL\n",
    "print(w2i)\n",
    "print(i2w)"
   ]
  },
  {
   "cell_type": "markdown",
   "metadata": {},
   "source": [
    "# Test model on sample sentences"
   ]
  },
  {
   "cell_type": "code",
   "execution_count": 11,
   "metadata": {},
   "outputs": [
    {
     "name": "stdout",
     "output_type": "stream",
     "text": [
      "Text: mesin 3SZ - VE 1500 cc ini memang lebih pas di badan Avanza, bertenaga namun hemat bahan bakar\n",
      "Label `fuel` : neutral (35.591%)\n",
      "Label `machine` : neutral (39.669%)\n",
      "Label `others` : negative (37.829%)\n",
      "Label `part` : negative (39.417%)\n",
      "Label `price` : positive (38.619%)\n",
      "Label `service` : negative (39.931%)\n"
     ]
    }
   ],
   "source": [
    "text = 'mesin 3SZ - VE 1500 cc ini memang lebih pas di badan Avanza, bertenaga namun hemat bahan bakar'\n",
    "subwords = tokenizer.encode(text)\n",
    "subwords = torch.LongTensor(subwords).view(1, -1).to(model.device)\n",
    "\n",
    "logits = model(subwords)[0]\n",
    "labels = [torch.topk(logit, k=1, dim=-1)[1].squeeze().item() for logit in logits]\n",
    "\n",
    "print(f'Text: {text}')\n",
    "for i, label in enumerate(labels):\n",
    "    print(f'Label `{AspectBasedSentimentAnalysisProsaDataset.ASPECT_DOMAIN[i]}` : {i2w[label]} ({F.softmax(logits[i], dim=-1).squeeze()[label] * 100:.3f}%)')"
   ]
  },
  {
   "cell_type": "code",
   "execution_count": 12,
   "metadata": {},
   "outputs": [
    {
     "name": "stdout",
     "output_type": "stream",
     "text": [
      "Text: Jazz enak. tetapi mahal harga dan perawatan gila .\n",
      "Label `fuel` : negative (35.298%)\n",
      "Label `machine` : negative (35.593%)\n",
      "Label `others` : positive (35.325%)\n",
      "Label `part` : neutral (35.073%)\n",
      "Label `price` : neutral (36.711%)\n",
      "Label `service` : positive (38.238%)\n"
     ]
    }
   ],
   "source": [
    "text = 'Jazz enak. tetapi mahal harga dan perawatan gila .'\n",
    "subwords = tokenizer.encode(text)\n",
    "subwords = torch.LongTensor(subwords).view(1, -1).to(model.device)\n",
    "\n",
    "logits = model(subwords)[0]\n",
    "labels = [torch.topk(logit, k=1, dim=-1)[1].squeeze().item() for logit in logits]\n",
    "\n",
    "print(f'Text: {text}')\n",
    "for i, label in enumerate(labels):\n",
    "    print(f'Label `{AspectBasedSentimentAnalysisProsaDataset.ASPECT_DOMAIN[i]}` : {i2w[label]} ({F.softmax(logits[i], dim=-1).squeeze()[label] * 100:.3f}%)')"
   ]
  },
  {
   "cell_type": "code",
   "execution_count": 13,
   "metadata": {},
   "outputs": [
    {
     "name": "stdout",
     "output_type": "stream",
     "text": [
      "Text: Toyota sekarang harga kemahalan, kualitas menurun, service parah, dan boros bensin. \n",
      "Label `fuel` : neutral (36.924%)\n",
      "Label `machine` : negative (34.913%)\n",
      "Label `others` : negative (34.523%)\n",
      "Label `part` : positive (39.489%)\n",
      "Label `price` : neutral (36.348%)\n",
      "Label `service` : positive (37.397%)\n"
     ]
    }
   ],
   "source": [
    "text = 'Toyota sekarang harga kemahalan, kualitas menurun, service parah, dan boros bensin. '\n",
    "subwords = tokenizer.encode(text)\n",
    "subwords = torch.LongTensor(subwords).view(1, -1).to(model.device)\n",
    "\n",
    "logits = model(subwords)[0]\n",
    "labels = [torch.topk(logit, k=1, dim=-1)[1].squeeze().item() for logit in logits]\n",
    "\n",
    "print(f'Text: {text}')\n",
    "for i, label in enumerate(labels):\n",
    "    print(f'Label `{AspectBasedSentimentAnalysisProsaDataset.ASPECT_DOMAIN[i]}` : {i2w[label]} ({F.softmax(logits[i], dim=-1).squeeze()[label] * 100:.3f}%)')"
   ]
  },
  {
   "cell_type": "markdown",
   "metadata": {},
   "source": [
    "# Fine Tuning & Evaluation"
   ]
  },
  {
   "cell_type": "code",
   "execution_count": 14,
   "metadata": {},
   "outputs": [],
   "source": [
    "optimizer = optim.Adam(model.parameters(), lr=1e-4)\n",
    "model = model.cuda()"
   ]
  },
  {
   "cell_type": "code",
   "execution_count": 15,
   "metadata": {},
   "outputs": [
    {
     "name": "stderr",
     "output_type": "stream",
     "text": [
      "(Epoch 1) TRAIN LOSS:4.1539 LR:0.00010000: 100%|██████████| 51/51 [00:03<00:00, 14.58it/s]\n",
      "  0%|          | 0/6 [00:00<?, ?it/s]"
     ]
    },
    {
     "name": "stdout",
     "output_type": "stream",
     "text": [
      "(Epoch 1) TRAIN LOSS:4.1539 ACC:0.77 F1:0.30 REC:0.33 PRE:0.34 LR:0.00010000\n"
     ]
    },
    {
     "name": "stderr",
     "output_type": "stream",
     "text": [
      "/home/samuel/anaconda3/envs/env_py3.7/lib/python3.7/site-packages/sklearn/metrics/_classification.py:1272: UndefinedMetricWarning: Precision is ill-defined and being set to 0.0 in labels with no predicted samples. Use `zero_division` parameter to control this behavior.\n",
      "  _warn_prf(average, modifier, msg_start, len(result))\n",
      "VALID LOSS:3.7344 ACC:0.79 F1:0.29 REC:0.33 PRE:0.26: 100%|██████████| 6/6 [00:00<00:00, 11.08it/s]\n",
      "  0%|          | 0/51 [00:00<?, ?it/s]"
     ]
    },
    {
     "name": "stdout",
     "output_type": "stream",
     "text": [
      "(Epoch 1) VALID LOSS:3.7344 ACC:0.79 F1:0.29 REC:0.33 PRE:0.26\n"
     ]
    },
    {
     "name": "stderr",
     "output_type": "stream",
     "text": [
      "(Epoch 2) TRAIN LOSS:3.7166 LR:0.00010000: 100%|██████████| 51/51 [00:03<00:00, 14.50it/s]\n",
      "  0%|          | 0/6 [00:00<?, ?it/s]"
     ]
    },
    {
     "name": "stdout",
     "output_type": "stream",
     "text": [
      "(Epoch 2) TRAIN LOSS:3.7166 ACC:0.78 F1:0.30 REC:0.34 PRE:0.43 LR:0.00010000\n"
     ]
    },
    {
     "name": "stderr",
     "output_type": "stream",
     "text": [
      "VALID LOSS:3.2399 ACC:0.79 F1:0.31 REC:0.34 PRE:0.40: 100%|██████████| 6/6 [00:00<00:00, 11.21it/s]\n",
      "  0%|          | 0/51 [00:00<?, ?it/s]"
     ]
    },
    {
     "name": "stdout",
     "output_type": "stream",
     "text": [
      "(Epoch 2) VALID LOSS:3.2399 ACC:0.79 F1:0.31 REC:0.34 PRE:0.40\n"
     ]
    },
    {
     "name": "stderr",
     "output_type": "stream",
     "text": [
      "(Epoch 3) TRAIN LOSS:2.9910 LR:0.00010000: 100%|██████████| 51/51 [00:03<00:00, 14.70it/s]\n",
      "  0%|          | 0/6 [00:00<?, ?it/s]"
     ]
    },
    {
     "name": "stdout",
     "output_type": "stream",
     "text": [
      "(Epoch 3) TRAIN LOSS:2.9910 ACC:0.81 F1:0.44 REC:0.42 PRE:0.68 LR:0.00010000\n"
     ]
    },
    {
     "name": "stderr",
     "output_type": "stream",
     "text": [
      "VALID LOSS:2.5191 ACC:0.88 F1:0.60 REC:0.56 PRE:0.72: 100%|██████████| 6/6 [00:00<00:00, 10.90it/s]\n",
      "  0%|          | 0/51 [00:00<?, ?it/s]"
     ]
    },
    {
     "name": "stdout",
     "output_type": "stream",
     "text": [
      "(Epoch 3) VALID LOSS:2.5191 ACC:0.88 F1:0.60 REC:0.56 PRE:0.72\n"
     ]
    },
    {
     "name": "stderr",
     "output_type": "stream",
     "text": [
      "(Epoch 4) TRAIN LOSS:2.3263 LR:0.00010000: 100%|██████████| 51/51 [00:03<00:00, 14.72it/s]\n",
      "  0%|          | 0/6 [00:00<?, ?it/s]"
     ]
    },
    {
     "name": "stdout",
     "output_type": "stream",
     "text": [
      "(Epoch 4) TRAIN LOSS:2.3263 ACC:0.87 F1:0.57 REC:0.56 PRE:0.72 LR:0.00010000\n"
     ]
    },
    {
     "name": "stderr",
     "output_type": "stream",
     "text": [
      "VALID LOSS:2.1287 ACC:0.87 F1:0.59 REC:0.58 PRE:0.66: 100%|██████████| 6/6 [00:00<00:00, 10.75it/s]\n",
      "  0%|          | 0/51 [00:00<?, ?it/s]"
     ]
    },
    {
     "name": "stdout",
     "output_type": "stream",
     "text": [
      "(Epoch 4) VALID LOSS:2.1287 ACC:0.87 F1:0.59 REC:0.58 PRE:0.66\n"
     ]
    },
    {
     "name": "stderr",
     "output_type": "stream",
     "text": [
      "(Epoch 5) TRAIN LOSS:1.9501 LR:0.00010000: 100%|██████████| 51/51 [00:03<00:00, 14.68it/s]\n",
      "  0%|          | 0/6 [00:00<?, ?it/s]"
     ]
    },
    {
     "name": "stdout",
     "output_type": "stream",
     "text": [
      "(Epoch 5) TRAIN LOSS:1.9501 ACC:0.89 F1:0.62 REC:0.61 PRE:0.71 LR:0.00010000\n"
     ]
    },
    {
     "name": "stderr",
     "output_type": "stream",
     "text": [
      "VALID LOSS:2.0207 ACC:0.88 F1:0.60 REC:0.59 PRE:0.65: 100%|██████████| 6/6 [00:00<00:00, 10.70it/s]\n",
      "  0%|          | 0/51 [00:00<?, ?it/s]"
     ]
    },
    {
     "name": "stdout",
     "output_type": "stream",
     "text": [
      "(Epoch 5) VALID LOSS:2.0207 ACC:0.88 F1:0.60 REC:0.59 PRE:0.65\n"
     ]
    },
    {
     "name": "stderr",
     "output_type": "stream",
     "text": [
      "(Epoch 6) TRAIN LOSS:1.7829 LR:0.00010000: 100%|██████████| 51/51 [00:03<00:00, 14.60it/s]\n",
      "  0%|          | 0/6 [00:00<?, ?it/s]"
     ]
    },
    {
     "name": "stdout",
     "output_type": "stream",
     "text": [
      "(Epoch 6) TRAIN LOSS:1.7829 ACC:0.90 F1:0.64 REC:0.63 PRE:0.73 LR:0.00010000\n"
     ]
    },
    {
     "name": "stderr",
     "output_type": "stream",
     "text": [
      "VALID LOSS:1.8857 ACC:0.88 F1:0.61 REC:0.60 PRE:0.65: 100%|██████████| 6/6 [00:00<00:00, 10.94it/s]\n",
      "  0%|          | 0/51 [00:00<?, ?it/s]"
     ]
    },
    {
     "name": "stdout",
     "output_type": "stream",
     "text": [
      "(Epoch 6) VALID LOSS:1.8857 ACC:0.88 F1:0.61 REC:0.60 PRE:0.65\n"
     ]
    },
    {
     "name": "stderr",
     "output_type": "stream",
     "text": [
      "(Epoch 7) TRAIN LOSS:1.6555 LR:0.00010000: 100%|██████████| 51/51 [00:03<00:00, 14.60it/s]\n",
      "  0%|          | 0/6 [00:00<?, ?it/s]"
     ]
    },
    {
     "name": "stdout",
     "output_type": "stream",
     "text": [
      "(Epoch 7) TRAIN LOSS:1.6555 ACC:0.90 F1:0.64 REC:0.63 PRE:0.73 LR:0.00010000\n"
     ]
    },
    {
     "name": "stderr",
     "output_type": "stream",
     "text": [
      "VALID LOSS:1.8391 ACC:0.88 F1:0.61 REC:0.61 PRE:0.67: 100%|██████████| 6/6 [00:00<00:00, 10.66it/s]\n",
      "  0%|          | 0/51 [00:00<?, ?it/s]"
     ]
    },
    {
     "name": "stdout",
     "output_type": "stream",
     "text": [
      "(Epoch 7) VALID LOSS:1.8391 ACC:0.88 F1:0.61 REC:0.61 PRE:0.67\n"
     ]
    },
    {
     "name": "stderr",
     "output_type": "stream",
     "text": [
      "(Epoch 8) TRAIN LOSS:1.5603 LR:0.00010000: 100%|██████████| 51/51 [00:03<00:00, 14.61it/s]\n",
      "  0%|          | 0/6 [00:00<?, ?it/s]"
     ]
    },
    {
     "name": "stdout",
     "output_type": "stream",
     "text": [
      "(Epoch 8) TRAIN LOSS:1.5603 ACC:0.90 F1:0.66 REC:0.65 PRE:0.74 LR:0.00010000\n"
     ]
    },
    {
     "name": "stderr",
     "output_type": "stream",
     "text": [
      "VALID LOSS:1.7766 ACC:0.89 F1:0.66 REC:0.64 PRE:0.70: 100%|██████████| 6/6 [00:00<00:00, 11.10it/s]\n",
      "  0%|          | 0/51 [00:00<?, ?it/s]"
     ]
    },
    {
     "name": "stdout",
     "output_type": "stream",
     "text": [
      "(Epoch 8) VALID LOSS:1.7766 ACC:0.89 F1:0.66 REC:0.64 PRE:0.70\n"
     ]
    },
    {
     "name": "stderr",
     "output_type": "stream",
     "text": [
      "(Epoch 9) TRAIN LOSS:1.4270 LR:0.00010000: 100%|██████████| 51/51 [00:03<00:00, 14.63it/s]\n",
      "  0%|          | 0/6 [00:00<?, ?it/s]"
     ]
    },
    {
     "name": "stdout",
     "output_type": "stream",
     "text": [
      "(Epoch 9) TRAIN LOSS:1.4270 ACC:0.91 F1:0.69 REC:0.67 PRE:0.77 LR:0.00010000\n"
     ]
    },
    {
     "name": "stderr",
     "output_type": "stream",
     "text": [
      "VALID LOSS:1.6964 ACC:0.89 F1:0.64 REC:0.62 PRE:0.69: 100%|██████████| 6/6 [00:00<00:00, 11.06it/s]\n",
      "  0%|          | 0/51 [00:00<?, ?it/s]"
     ]
    },
    {
     "name": "stdout",
     "output_type": "stream",
     "text": [
      "(Epoch 9) VALID LOSS:1.6964 ACC:0.89 F1:0.64 REC:0.62 PRE:0.69\n"
     ]
    },
    {
     "name": "stderr",
     "output_type": "stream",
     "text": [
      "(Epoch 10) TRAIN LOSS:1.3518 LR:0.00010000: 100%|██████████| 51/51 [00:03<00:00, 14.75it/s]\n",
      "  0%|          | 0/6 [00:00<?, ?it/s]"
     ]
    },
    {
     "name": "stdout",
     "output_type": "stream",
     "text": [
      "(Epoch 10) TRAIN LOSS:1.3518 ACC:0.92 F1:0.73 REC:0.71 PRE:0.79 LR:0.00010000\n"
     ]
    },
    {
     "name": "stderr",
     "output_type": "stream",
     "text": [
      "VALID LOSS:1.6517 ACC:0.91 F1:0.73 REC:0.70 PRE:0.80: 100%|██████████| 6/6 [00:00<00:00, 10.73it/s]\n",
      "  0%|          | 0/51 [00:00<?, ?it/s]"
     ]
    },
    {
     "name": "stdout",
     "output_type": "stream",
     "text": [
      "(Epoch 10) VALID LOSS:1.6517 ACC:0.91 F1:0.73 REC:0.70 PRE:0.80\n"
     ]
    },
    {
     "name": "stderr",
     "output_type": "stream",
     "text": [
      "(Epoch 11) TRAIN LOSS:1.3000 LR:0.00010000: 100%|██████████| 51/51 [00:03<00:00, 14.49it/s]\n",
      "  0%|          | 0/6 [00:00<?, ?it/s]"
     ]
    },
    {
     "name": "stdout",
     "output_type": "stream",
     "text": [
      "(Epoch 11) TRAIN LOSS:1.3000 ACC:0.92 F1:0.75 REC:0.72 PRE:0.81 LR:0.00010000\n"
     ]
    },
    {
     "name": "stderr",
     "output_type": "stream",
     "text": [
      "VALID LOSS:1.7199 ACC:0.90 F1:0.74 REC:0.74 PRE:0.75: 100%|██████████| 6/6 [00:00<00:00, 11.06it/s]\n",
      "  0%|          | 0/51 [00:00<?, ?it/s]"
     ]
    },
    {
     "name": "stdout",
     "output_type": "stream",
     "text": [
      "(Epoch 11) VALID LOSS:1.7199 ACC:0.90 F1:0.74 REC:0.74 PRE:0.75\n"
     ]
    },
    {
     "name": "stderr",
     "output_type": "stream",
     "text": [
      "(Epoch 12) TRAIN LOSS:1.1829 LR:0.00010000: 100%|██████████| 51/51 [00:03<00:00, 14.57it/s]\n",
      "  0%|          | 0/6 [00:00<?, ?it/s]"
     ]
    },
    {
     "name": "stdout",
     "output_type": "stream",
     "text": [
      "(Epoch 12) TRAIN LOSS:1.1829 ACC:0.93 F1:0.79 REC:0.77 PRE:0.83 LR:0.00010000\n"
     ]
    },
    {
     "name": "stderr",
     "output_type": "stream",
     "text": [
      "VALID LOSS:1.6484 ACC:0.90 F1:0.73 REC:0.72 PRE:0.76: 100%|██████████| 6/6 [00:00<00:00, 10.68it/s]\n",
      "  0%|          | 0/51 [00:00<?, ?it/s]"
     ]
    },
    {
     "name": "stdout",
     "output_type": "stream",
     "text": [
      "(Epoch 12) VALID LOSS:1.6484 ACC:0.90 F1:0.73 REC:0.72 PRE:0.76\n"
     ]
    },
    {
     "name": "stderr",
     "output_type": "stream",
     "text": [
      "(Epoch 13) TRAIN LOSS:1.1448 LR:0.00010000: 100%|██████████| 51/51 [00:03<00:00, 14.35it/s]\n",
      "  0%|          | 0/6 [00:00<?, ?it/s]"
     ]
    },
    {
     "name": "stdout",
     "output_type": "stream",
     "text": [
      "(Epoch 13) TRAIN LOSS:1.1448 ACC:0.94 F1:0.82 REC:0.80 PRE:0.85 LR:0.00010000\n"
     ]
    },
    {
     "name": "stderr",
     "output_type": "stream",
     "text": [
      "VALID LOSS:1.6318 ACC:0.91 F1:0.76 REC:0.74 PRE:0.78: 100%|██████████| 6/6 [00:00<00:00, 10.97it/s]\n",
      "  0%|          | 0/51 [00:00<?, ?it/s]"
     ]
    },
    {
     "name": "stdout",
     "output_type": "stream",
     "text": [
      "(Epoch 13) VALID LOSS:1.6318 ACC:0.91 F1:0.76 REC:0.74 PRE:0.78\n"
     ]
    },
    {
     "name": "stderr",
     "output_type": "stream",
     "text": [
      "(Epoch 14) TRAIN LOSS:1.0587 LR:0.00010000: 100%|██████████| 51/51 [00:03<00:00, 14.17it/s]\n",
      "  0%|          | 0/6 [00:00<?, ?it/s]"
     ]
    },
    {
     "name": "stdout",
     "output_type": "stream",
     "text": [
      "(Epoch 14) TRAIN LOSS:1.0587 ACC:0.94 F1:0.84 REC:0.82 PRE:0.87 LR:0.00010000\n"
     ]
    },
    {
     "name": "stderr",
     "output_type": "stream",
     "text": [
      "VALID LOSS:1.5689 ACC:0.91 F1:0.77 REC:0.77 PRE:0.79: 100%|██████████| 6/6 [00:00<00:00, 11.04it/s]\n",
      "  0%|          | 0/51 [00:00<?, ?it/s]"
     ]
    },
    {
     "name": "stdout",
     "output_type": "stream",
     "text": [
      "(Epoch 14) VALID LOSS:1.5689 ACC:0.91 F1:0.77 REC:0.77 PRE:0.79\n"
     ]
    },
    {
     "name": "stderr",
     "output_type": "stream",
     "text": [
      "(Epoch 15) TRAIN LOSS:1.0276 LR:0.00010000: 100%|██████████| 51/51 [00:03<00:00, 14.64it/s]\n",
      "  0%|          | 0/6 [00:00<?, ?it/s]"
     ]
    },
    {
     "name": "stdout",
     "output_type": "stream",
     "text": [
      "(Epoch 15) TRAIN LOSS:1.0276 ACC:0.94 F1:0.83 REC:0.81 PRE:0.86 LR:0.00010000\n"
     ]
    },
    {
     "name": "stderr",
     "output_type": "stream",
     "text": [
      "VALID LOSS:1.5291 ACC:0.92 F1:0.80 REC:0.80 PRE:0.82: 100%|██████████| 6/6 [00:00<00:00, 10.96it/s]"
     ]
    },
    {
     "name": "stdout",
     "output_type": "stream",
     "text": [
      "(Epoch 15) VALID LOSS:1.5291 ACC:0.92 F1:0.80 REC:0.80 PRE:0.82\n"
     ]
    },
    {
     "name": "stderr",
     "output_type": "stream",
     "text": [
      "\n"
     ]
    }
   ],
   "source": [
    "# Train\n",
    "n_epochs = 15\n",
    "for epoch in range(n_epochs):\n",
    "    model.train()\n",
    "    torch.set_grad_enabled(True)\n",
    " \n",
    "    total_train_loss = 0\n",
    "    list_hyp, list_label = [], []\n",
    "\n",
    "    train_pbar = tqdm(train_loader, leave=True, total=len(train_loader))\n",
    "    for i, batch_data in enumerate(train_pbar):\n",
    "        # Forward model\n",
    "        loss, batch_hyp, batch_label = forward_sequence_multi_classification(model, batch_data[:-1], i2w=i2w, device='cuda')\n",
    "\n",
    "        # Update model\n",
    "        optimizer.zero_grad()\n",
    "        loss.backward()\n",
    "        optimizer.step()\n",
    "\n",
    "        tr_loss = loss.item()\n",
    "        total_train_loss = total_train_loss + tr_loss\n",
    "\n",
    "        # Calculate metrics\n",
    "        list_hyp += batch_hyp\n",
    "        list_label += batch_label\n",
    "\n",
    "        train_pbar.set_description(\"(Epoch {}) TRAIN LOSS:{:.4f} LR:{:.8f}\".format((epoch+1),\n",
    "            total_train_loss/(i+1), get_lr(optimizer)))\n",
    "\n",
    "    # Calculate train metric\n",
    "    metrics = absa_metrics_fn(list_hyp, list_label)\n",
    "    print(\"(Epoch {}) TRAIN LOSS:{:.4f} {} LR:{:.8f}\".format((epoch+1),\n",
    "        total_train_loss/(i+1), metrics_to_string(metrics), get_lr(optimizer)))\n",
    "\n",
    "    # Evaluate on validation\n",
    "    model.eval()\n",
    "    torch.set_grad_enabled(False)\n",
    "    \n",
    "    total_loss, total_correct, total_labels = 0, 0, 0\n",
    "    list_hyp, list_label = [], []\n",
    "\n",
    "    pbar = tqdm(valid_loader, leave=True, total=len(valid_loader))\n",
    "    for i, batch_data in enumerate(pbar):\n",
    "        batch_seq = batch_data[-1]        \n",
    "        loss, batch_hyp, batch_label = forward_sequence_multi_classification(model, batch_data[:-1], i2w=i2w, device='cuda')\n",
    "        \n",
    "        # Calculate total loss\n",
    "        valid_loss = loss.item()\n",
    "        total_loss = total_loss + valid_loss\n",
    "\n",
    "        # Calculate evaluation metrics\n",
    "        list_hyp += batch_hyp\n",
    "        list_label += batch_label\n",
    "        metrics = absa_metrics_fn(list_hyp, list_label)\n",
    "\n",
    "        pbar.set_description(\"VALID LOSS:{:.4f} {}\".format(total_loss/(i+1), metrics_to_string(metrics)))\n",
    "        \n",
    "    metrics = absa_metrics_fn(list_hyp, list_label)\n",
    "    print(\"(Epoch {}) VALID LOSS:{:.4f} {}\".format((epoch+1),\n",
    "        total_loss/(i+1), metrics_to_string(metrics)))"
   ]
  },
  {
   "cell_type": "code",
   "execution_count": 16,
   "metadata": {},
   "outputs": [
    {
     "name": "stderr",
     "output_type": "stream",
     "text": [
      "100%|██████████| 12/12 [00:00<00:00, 20.54it/s]\n"
     ]
    },
    {
     "name": "stdout",
     "output_type": "stream",
     "text": [
      "     index                                              label\n",
      "0        0  [neutral, neutral, neutral, negative, neutral,...\n",
      "1        1  [neutral, neutral, positive, neutral, neutral,...\n",
      "2        2  [neutral, neutral, neutral, positive, neutral,...\n",
      "3        3  [neutral, neutral, negative, neutral, neutral,...\n",
      "4        4  [neutral, neutral, positive, neutral, neutral,...\n",
      "..     ...                                                ...\n",
      "175    175  [neutral, neutral, neutral, neutral, neutral, ...\n",
      "176    176  [neutral, neutral, neutral, negative, neutral,...\n",
      "177    177  [neutral, neutral, neutral, positive, neutral,...\n",
      "178    178  [neutral, neutral, neutral, negative, neutral,...\n",
      "179    179  [positive, neutral, neutral, neutral, neutral,...\n",
      "\n",
      "[180 rows x 2 columns]\n"
     ]
    }
   ],
   "source": [
    "# Evaluate on test\n",
    "model.eval()\n",
    "torch.set_grad_enabled(False)\n",
    "\n",
    "total_loss, total_correct, total_labels = 0, 0, 0\n",
    "list_hyp, list_label = [], []\n",
    "\n",
    "pbar = tqdm(test_loader, leave=True, total=len(test_loader))\n",
    "for i, batch_data in enumerate(pbar):\n",
    "    _, batch_hyp, _ = forward_sequence_multi_classification(model, batch_data[:-1], i2w=i2w, device='cuda')\n",
    "    list_hyp += batch_hyp\n",
    "\n",
    "# Save prediction\n",
    "df = pd.DataFrame({'label':list_hyp}).reset_index()\n",
    "df.to_csv('pred.txt', index=False)\n",
    "\n",
    "print(df)"
   ]
  },
  {
   "cell_type": "markdown",
   "metadata": {},
   "source": [
    "# Test fine-tuned model on sample sentences"
   ]
  },
  {
   "cell_type": "code",
   "execution_count": 17,
   "metadata": {},
   "outputs": [
    {
     "name": "stdout",
     "output_type": "stream",
     "text": [
      "Text: mesin 3SZ - VE 1500 cc ini memang lebih pas di badan Avanza, bertenaga namun hemat bahan bakar\n",
      "Label `fuel` : positive (82.744%)\n",
      "Label `machine` : positive (95.344%)\n",
      "Label `others` : neutral (85.283%)\n",
      "Label `part` : neutral (96.303%)\n",
      "Label `price` : neutral (97.331%)\n",
      "Label `service` : neutral (99.295%)\n"
     ]
    }
   ],
   "source": [
    "text = 'mesin 3SZ - VE 1500 cc ini memang lebih pas di badan Avanza, bertenaga namun hemat bahan bakar'\n",
    "subwords = tokenizer.encode(text)\n",
    "subwords = torch.LongTensor(subwords).view(1, -1).to(model.device)\n",
    "\n",
    "logits = model(subwords)[0]\n",
    "labels = [torch.topk(logit, k=1, dim=-1)[1].squeeze().item() for logit in logits]\n",
    "\n",
    "print(f'Text: {text}')\n",
    "for i, label in enumerate(labels):\n",
    "    print(f'Label `{AspectBasedSentimentAnalysisProsaDataset.ASPECT_DOMAIN[i]}` : {i2w[label]} ({F.softmax(logits[i], dim=-1).squeeze()[label] * 100:.3f}%)')"
   ]
  },
  {
   "cell_type": "code",
   "execution_count": 18,
   "metadata": {},
   "outputs": [
    {
     "name": "stdout",
     "output_type": "stream",
     "text": [
      "Text: Jazz enak. tetapi mahal harga dan perawatan gila .\n",
      "Label `fuel` : neutral (99.786%)\n",
      "Label `machine` : neutral (99.413%)\n",
      "Label `others` : neutral (81.806%)\n",
      "Label `part` : neutral (98.523%)\n",
      "Label `price` : negative (48.632%)\n",
      "Label `service` : positive (45.997%)\n"
     ]
    }
   ],
   "source": [
    "text = 'Jazz enak. tetapi mahal harga dan perawatan gila .'\n",
    "subwords = tokenizer.encode(text)\n",
    "subwords = torch.LongTensor(subwords).view(1, -1).to(model.device)\n",
    "\n",
    "logits = model(subwords)[0]\n",
    "labels = [torch.topk(logit, k=1, dim=-1)[1].squeeze().item() for logit in logits]\n",
    "\n",
    "print(f'Text: {text}')\n",
    "for i, label in enumerate(labels):\n",
    "    print(f'Label `{AspectBasedSentimentAnalysisProsaDataset.ASPECT_DOMAIN[i]}` : {i2w[label]} ({F.softmax(logits[i], dim=-1).squeeze()[label] * 100:.3f}%)')"
   ]
  },
  {
   "cell_type": "code",
   "execution_count": 19,
   "metadata": {},
   "outputs": [
    {
     "name": "stdout",
     "output_type": "stream",
     "text": [
      "Text: Toyota sekarang harga kemahalan, kualitas menurun, service parah\n",
      "Label `fuel` : neutral (99.345%)\n",
      "Label `machine` : neutral (95.504%)\n",
      "Label `others` : neutral (90.489%)\n",
      "Label `part` : neutral (86.372%)\n",
      "Label `price` : negative (68.773%)\n",
      "Label `service` : negative (48.384%)\n"
     ]
    }
   ],
   "source": [
    "text = 'Toyota sekarang harga kemahalan, kualitas menurun, service parah'\n",
    "subwords = tokenizer.encode(text)\n",
    "subwords = torch.LongTensor(subwords).view(1, -1).to(model.device)\n",
    "\n",
    "logits = model(subwords)[0]\n",
    "labels = [torch.topk(logit, k=1, dim=-1)[1].squeeze().item() for logit in logits]\n",
    "\n",
    "print(f'Text: {text}')\n",
    "for i, label in enumerate(labels):\n",
    "    print(f'Label `{AspectBasedSentimentAnalysisProsaDataset.ASPECT_DOMAIN[i]}` : {i2w[label]} ({F.softmax(logits[i], dim=-1).squeeze()[label] * 100:.3f}%)')"
   ]
  },
  {
   "cell_type": "code",
   "execution_count": null,
   "metadata": {},
   "outputs": [],
   "source": []
  }
 ],
 "metadata": {
  "kernelspec": {
   "display_name": "Python 3",
   "language": "python",
   "name": "python3"
  },
  "language_info": {
   "codemirror_mode": {
    "name": "ipython",
    "version": 3
   },
   "file_extension": ".py",
   "mimetype": "text/x-python",
   "name": "python",
   "nbconvert_exporter": "python",
   "pygments_lexer": "ipython3",
   "version": "3.7.6"
  }
 },
 "nbformat": 4,
 "nbformat_minor": 4
}
